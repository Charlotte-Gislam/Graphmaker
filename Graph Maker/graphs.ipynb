{
  "cells": [
    {
      "metadata": {
        "collapsed": true
      },
      "cell_type": "markdown",
      "source": "# Graph Generation Scripts\n\nEdit the variables below and run the cells in order to generate graph files that can be opened in Gephi"
    },
    {
      "metadata": {
        "trusted": true
      },
      "cell_type": "code",
      "source": "# 1: Enter the input file name\n\ninput_file_name = '11thNovember202_pilgrimsprogress_noitalics_map3.xml'",
      "execution_count": 1,
      "outputs": []
    },
    {
      "metadata": {
        "trusted": true
      },
      "cell_type": "code",
      "source": "# 2: Generate output file names\n\noutput_root = input_file_name[:-4]\n\ncomplete_output_file_name = output_root +'-complete_new.gexf'\nsyuzhet_output_file_name = output_root + '-syuzhet.gexf'\ntopoi_output_file_name = output_root + '-topoi.gexf'\ntopoi_with_time_output_file_name = output_root + '-topoi-with-time.gexf'\nchronotope_output_file_name = output_root + '-chronotopes.gexf'\nchronotope_II_output_file_name = output_root + '-chronotopes-ii.gexf'\nchronotope_III_output_file_name = output_root + '-chronotopes-iii.gexf'",
      "execution_count": 2,
      "outputs": []
    },
    {
      "metadata": {
        "trusted": true
      },
      "cell_type": "code",
      "source": "# 3: Import libraries\n\nfrom lxml import etree\nimport networkx as nx\n\nfrom bs4 import BeautifulSoup, element",
      "execution_count": 3,
      "outputs": []
    },
    {
      "metadata": {
        "trusted": true
      },
      "cell_type": "code",
      "source": "# 4: Read the XML file and create empty graph objects\ntree = etree.parse('files/xml/' + input_file_name)\nroot = tree.getroot()\n\ncomplete = nx.DiGraph()\nsyuzhet = nx.DiGraph()\ntopoi = nx.DiGraph()\nchronotope = nx.Graph()\nchronotope_ii = nx.DiGraph()",
      "execution_count": 5,
      "outputs": []
    },
    {
      "metadata": {
        "trusted": true
      },
      "cell_type": "code",
      "source": "chapters = []\nfor el in root.iter('chapter'):\n    chapters.append(el)",
      "execution_count": 16,
      "outputs": []
    },
    {
      "metadata": {
        "trusted": true
      },
      "cell_type": "code",
      "source": "for el in chapters:\n    print(el)",
      "execution_count": 17,
      "outputs": []
    },
    {
      "metadata": {
        "trusted": true
      },
      "cell_type": "code",
      "source": "# 5: Define the functions for creating the graphs\n\ndef complete_graph(xml_element, graph):\n    \"\"\"\n    Takes an XML element marked up using CLAYE and returns a populated graph of the spatial nodes, \n    litonyms, and the implied physical, psychological, or sensory connections between them. \n    \n    Params:\n    xml_element: an lxml XML element\n    graph: a NetworkX Graph() object - nx.Graph()\n\n    \"\"\"\n    \n    # Add all the litonyms and topoi as nodes and connections as edges first\n    for toporef in xml_element.iter('toporef'):\n        graph.add_node('\"' + toporef.text + '\"', node_type='toporef')\n    \n    topos_count = 0\n    \n    for topos in xml_element.iter('topos'):\n        topos_count_str = str(topos_count)\n        try:\n            framename = topos.attrib['framename']\n            new_length = graph.nodes[framename]['length'] + len(''.join(topos.itertext()).strip())\n            graph.nodes[framename]['length'] = new_length\n            graph.nodes[framename]['timeframes'] = graph.nodes[framename]['timeframes'] + ',' + topos_count_str\n            \n        except KeyError:\n            graph.add_node(topos.attrib['framename'], length=len(''.join(topos.itertext()).strip()), chronotope=topos.attrib['type'], node_type=\"topos\", timeframes=topos_count_str)\n\n        topos_count += 1\n    \n    for connection in xml_element.iter('connection'):\n        try:\n            graph.add_edge(connection.attrib['source'], connection.attrib['target'], relation=connection.attrib['relation'])\n        except:\n            graph.add_edge(connection.attrib['source'], connection.attrib['target'], relation='none')\n    \n    # Connect the toporefs to the containing topoi\n    for toporef in xml_element.iter('toporef'):\n        if ('sequence' in toporef.attrib.keys()):\n            pass\n        else:\n            parent = toporef.getparent()\n            containing_node = None\n            if parent.tag == 'topos':\n                containing_node = parent.attrib['framename']\n            elif parent.tag == 'connection':\n                containing_topos = parent.getparent()\n                try:\n                    containing_node = containing_topos.attrib['framename']\n                except:\n                    pass\n            try:\n                graph.add_edge(containing_node, '\"' + toporef.text + '\"', relation=toporef.attrib['relation'])\n            except:\n                graph.add_edge(containing_node, '\"' + toporef.text + '\"', relation='none')\n    \n    # Connect the toporef sequences to one another\n    sequences = {}\n    for toporef in xml_element.iter('toporef'):\n        try:\n            sequence = toporef.attrib['sequence']\n            sequences[sequence] = []\n        except:\n            pass\n        \n    for sequence in sequences.keys():\n        for toporef in xml_element.iter('toporef'):\n            try:\n                sequence = toporef.attrib['sequence']\n                sequences[sequence].append(toporef)\n            except:\n                pass\n    \n    for sequence, toporef_list in sequences.items():\n        prev_toporef = None\n        \n        for toporef in toporef_list:    \n            if prev_toporef == None:\n                parent = toporef.getparent()\n                containing_node = None\n                if parent.tag == 'topos':\n                    containing_node = parent.attrib['framename']\n                elif parent.tag == 'connection':\n                    containing_topos = parent.getparent()\n                    try:\n                        containing_node = containing_topos.attrib['framename']\n                    except:\n                        pass\n                try:\n                    graph.add_edge(containing_node, '\"' + toporef.text + '\"', relation=toporef.attrib['relation'])\n                except:\n                    graph.add_edge(containing_node, '\"' + toporef.text + '\"', relation='none')\n                \n                prev_toporef = toporef\n                    \n            else:\n                graph.add_edge('\"' + prev_toporef.text + '\"', '\"' + toporef.text + '\"', relation=toporef.attrib['relation'])\n                prev_toporef = toporef\n            \n        \n\n\ndef syuzhet_graph(xml_element, graph):\n    \"\"\"\n    Takes an XML element marked up using CLAYE and returns a populated graph of the spatial nodes\n    connected sequentially as they appear in the text\n    Corresponds (loosely) with the syuzhet or story order of the text.\n    \n    Params:\n    xml_element: an lxml XML element\n    graph: a NetworkX Graph() object - nx.Graph()\n\n    \"\"\"\n    topoi = []\n\n    for topos in xml_element.iter('topos'):\n        topoi.append([topos.attrib['framename'], topos.attrib['type'], len(''.join(topos.itertext()).strip())])\n\n    prev_node = None\n    \n    for t in topoi:\n        if prev_node == None:\n            prev_node = t[0]\n            graph.add_node(t[0], chronotope=t[1], length=t[2])\n        else:\n            try:\n                graph.nodes[t[0]]['length'] += t[2]\n            except KeyError:\n                graph.add_node(t[0], chronotope=t[1], length=t[2])\n\n            for c in xml_element.iter('connection'):\n                if (c.attrib['source'] == prev_node) and (c.attrib['target'] == t[0]):\n                    graph.add_edge(prev_node, t[0], relation=c.attrib['relation'])\n            \n            prev_node = t[0]\n\n            \ndef topoi_graph(xml_element, graph):\n    \"\"\"\n    Iterate over an XML element and its children and generate a graph of topoi nodes and connections, including attributes.\n    xml_element: an eTree XML element\n    graph: a NetworkX Graph() object - nx.Graph()\n    \"\"\"\n    \n    for topos in xml_element.iter('topos'):\n        try:\n            graph.nodes[topos.attrib['framename']]['length'] += len(''.join(topos.itertext()).strip())\n        except KeyError:\n            graph.add_node(topos.attrib['framename'], chronotope=topos.attrib['type'], length=len(''.join(topos.itertext()).strip()))\n\n    for c in xml_element.iter('connection'):\n        try:\n            graph.add_edge(c.attrib['source'], c.attrib['target'], relation=c.attrib['relation'])\n        except KeyError:\n            print(c.attrib)\n            \n\ndef topoi_graph_with_time(xml_element, graph):\n    \"\"\"\n    Iterate over an XML element and its children and generate a graph of topoi nodes and connections, including attributes.\n    xml_element: an eTree XML element\n    graph: a NetworkX Graph() object - nx.Graph()\n    \"\"\"\n    \n    topos_count = 0\n    \n    for topos in xml_element.iter('topos'):\n        topos_count_string = str(topos_count)\n        try:\n            graph.nodes[topos.attrib['framename']]['length'] += len(''.join(topos.itertext()).strip())\n            timeframes = graph.nodes[topos.attrib['framename']]['timeframes'] + ',' + topos_count_string \n            graph.nodes[topos.attrib['framename']]['timeframes'] = timeframes\n        except KeyError:\n            graph.add_node(topos.attrib['framename'], chronotope=topos.attrib['type'], length=len(''.join(topos.itertext()).strip()), timeframes=topos_count_string)\n            \n        topos_count += 1\n    \n\n    for c in xml_element.iter('connection'):\n        try:\n            graph.add_edge(c.attrib['source'], c.attrib['target'], relation=c.attrib['relation'])\n        except KeyError:\n            print(c.attrib)\n\n\n\ndef chronotope_graph(xml_element, graph):\n    \"\"\"\n    Takes an XML element marked up using CLAYE and returns a populated graph of the topoi\n    and their associated chronotopes\n    \n    Params:\n    xml_element: an lxml XML element\n    graph: a NetworkX Graph() object - nx.Graph()\n    \"\"\"\n    \n    for topos in xml_element.iter('topos'):\n        graph.add_node(topos.attrib['type'], node_type='chronotope')\n        graph.add_node(topos.attrib['framename'], node_type='setting')\n        graph.add_edge(topos.attrib['type'], topos.attrib['framename'])\n\n\ndef chronotope_graph_ii(soup, graph):\n    \n    # Add all the connections first\n    edges = []\n    for connection in soup.find_all('connection'):\n        source = connection.get('source')\n        target = connection.get('target')\n        relation = connection.get('relation')\n        \n        source_chronotope = None\n        target_chronotope = None\n        \n        if (connection.parent.get('framename') == source):\n            source_chronotope = connection.parent.get('type')\n        \n        else:\n            for el in connection.previous_elements:\n                if (isinstance(el, element.Tag) == True):\n                    if el.get('framename') == source and source_chronotope is None:\n                        source_chronotope = el.get('type')\n                    elif el.get('framename') == target and target_chronotope is None:\n                        target_chronotope = el.get('type')\n        \n        for el in connection.next_elements:\n            if (isinstance(el, element.Tag) == True and el.get('type') is not None):\n                if el.get('framename') == target and target_chronotope is None:\n                    target_chronotope = el.get('type')\n                elif el.get('framename') == source and source_chronotope is None:\n                    source_chronotope = el.get('type')\n        \n        if (source_chronotope != None and target_chronotope != None):\n            edges.append((source_chronotope, target_chronotope, relation))\n            \n    edges = list(set(edges))\n    \n    for e in edges:\n        graph.add_edge(e[0], e[1], relation=e[2])\n    \n    # Then iterate over the topoi and calculate the number of characters in each, appending the values to the nodes\n    chronotopes = {}\n    for topos in soup.find_all('topos'):\n        chronotope = topos.get('type')\n        try:\n            if chronotope not in chronotopes.keys():\n                chronotopes[chronotope] = len(topos.get_text())\n            else:\n                chronotopes[chronotope] += len(topos.get_text())\n        except:\n            pass\n    \n    for c, attribs in chronotopes.items():\n        graph.nodes[c]['length'] = attribs    \n\n    \ndef chronotope_graph_iii(xml_element, graph):\n    \"\"\"\n    Takes an XML element marked up using CLAYE and returns a populated graph of the chronotope archteypes, \n    their connections, and their associated toporefs\n    \n    \"\"\"\n    topoi = {}\n    for topos in xml_element.iter('topos'):\n        try: \n            chronotope = topos.attrib['type']\n            graph.nodes[chronotope]['length'] += len(''.join(topos.itertext()).strip())\n        except KeyError:\n            graph.add_node(topos.attrib['type'], length=len(''.join(topos.itertext()).strip()))\n        topoi[topos.attrib['framename']] = topos.attrib['type']\n    \n    for connection in xml_element.iter('connection'):\n        try:\n            source_chronotope = topoi[connection.attrib['source']]\n            target_chronotope = topoi[connection.attrib['target']]\n            relation = connection.attrib['relation']\n            graph.add_edge(source_chronotope, target_chronotope, relation=relation)\n        except:\n            print('error')\n    \n    for topos in xml_element.iter('topos'):\n        try:\n            chronotope = topos.attrib['type']\n            for toporef in topos.iter('toporef'):\n                graph.add_edge(chronotope, '\"' + toporef.text + '\"', relation=toporef.attrib['relation'])\n        except:\n            pass",
      "execution_count": 6,
      "outputs": []
    },
    {
      "metadata": {
        "trusted": true
      },
      "cell_type": "code",
      "source": "# 6: Complete\n\ncomplete = nx.DiGraph()\n\ncomplete_graph(root, complete)\n\nwith open('files/graphs/' + complete_output_file_name, 'a') as output_file:\n    for line in nx.readwrite.gexf.generate_gexf(complete):\n        output_file.write(line)",
      "execution_count": 7,
      "outputs": []
    },
    {
      "metadata": {
        "trusted": true
      },
      "cell_type": "code",
      "source": "# 7: Syujhet\n\nsyuzhet_graph(root, syuzhet)\n\nwith open('files/graphs/' + syuzhet_output_file_name, 'a') as output_file:\n    for line in nx.readwrite.gexf.generate_gexf(syuzhet):\n        output_file.write(line)",
      "execution_count": 32,
      "outputs": []
    },
    {
      "metadata": {
        "trusted": true
      },
      "cell_type": "code",
      "source": "# 8: Topoi\n\ntopoi_graph(root, topoi)\n\nwith open('files/graphs/' + topoi_output_file_name, 'a') as output_file:\n    for line in nx.readwrite.gexf.generate_gexf(topoi):\n        output_file.write(line)",
      "execution_count": 33,
      "outputs": []
    },
    {
      "metadata": {
        "trusted": true
      },
      "cell_type": "code",
      "source": "tt = nx.DiGraph()\n\ntopoi_graph_with_time(root, tt)\n\nwith open('files/graphs/' + topoi_with_time_output_file_name, 'a') as output_file:\n    for line in nx.readwrite.gexf.generate_gexf(tt):\n        output_file.write(line)",
      "execution_count": 34,
      "outputs": []
    },
    {
      "metadata": {
        "trusted": true
      },
      "cell_type": "code",
      "source": "# 9: Chronotopes I\n\nchronotope_graph(root, chronotope)\n\nwith open('files/graphs/' + chronotope_output_file_name, 'a') as output_file:\n    for line in nx.readwrite.gexf.generate_gexf(chronotope):\n        output_file.write(line)",
      "execution_count": 35,
      "outputs": []
    },
    {
      "metadata": {
        "trusted": true
      },
      "cell_type": "code",
      "source": "# 10: Chronotopes II\nchronotope_ii = nx.DiGraph()\n\nwith open('files/xml/' + input_file_name) as fp:\n    soup = BeautifulSoup(fp)    \n\nchronotope_graph_ii(soup, chronotope_ii)\n\nwith open('files/graphs/' + chronotope_II_output_file_name, 'a') as output_file:\n    for line in nx.readwrite.gexf.generate_gexf(chronotope_ii):\n        output_file.write(line)",
      "execution_count": 49,
      "outputs": []
    },
    {
      "metadata": {
        "trusted": true
      },
      "cell_type": "code",
      "source": "# nx.write_gml(chronotope_ii, \"test.gml\")\n\nchronotope_ii.edges()",
      "execution_count": 50,
      "outputs": [
        {
          "output_type": "execute_result",
          "execution_count": 50,
          "data": {
            "text/plain": "OutEdgeView([('road', 'distortion'), ('road', 'parlour'), ('road', 'road'), ('road', 'threshold'), ('road', 'encounter'), ('road', 'castle'), ('road', 'idyll-wilderness'), ('distortion', 'distortion'), ('distortion', 'road'), ('distortion', 'encounter'), ('distortion', 'parlour'), ('castle', 'castle'), ('castle', 'road'), ('castle', 'encounter'), ('castle', 'metanarrative'), ('castle', 'parlour'), ('castle', 'distortion'), ('parlour', 'road'), ('parlour', 'threshold'), ('parlour', 'encounter'), ('parlour', 'public square'), ('parlour', 'distortion'), ('threshold', 'distortion'), ('threshold', 'encounter'), ('threshold', 'threshold'), ('threshold', 'provincial town'), ('threshold', 'road'), ('threshold', 'anti-idyll'), ('threshold', 'parlour'), ('threshold', 'metanarrative'), ('encounter', 'castle'), ('encounter', 'encounter'), ('encounter', 'provincial town'), ('encounter', 'metanarrative'), ('encounter', 'road'), ('encounter', 'idyll-wilderness'), ('encounter', 'threshold'), ('encounter', 'distortion'), ('encounter', 'parlour'), ('idyll-wilderness', 'road'), ('idyll-wilderness', 'encounter'), ('idyll-wilderness', 'threshold'), ('metanarrative', 'encounter'), ('metanarrative', 'metanarrative'), ('metanarrative', 'castle'), ('provincial town', 'threshold'), ('anti-idyll', 'threshold'), ('public square', 'parlour')])"
          },
          "metadata": {}
        }
      ]
    },
    {
      "metadata": {
        "trusted": true
      },
      "cell_type": "code",
      "source": "list(chronotope_ii.nodes())",
      "execution_count": 21,
      "outputs": [
        {
          "output_type": "execute_result",
          "execution_count": 21,
          "data": {
            "text/plain": "['road',\n 'distortion',\n 'castle',\n 'parlour',\n 'threshold',\n 'encounter',\n 'idyll-wilderness',\n 'metanarrative',\n 'public square',\n 'provincial town',\n 'anti-idyll']"
          },
          "metadata": {}
        }
      ]
    },
    {
      "metadata": {
        "trusted": true
      },
      "cell_type": "code",
      "source": "# 11: Chronotopes III\n\nchronotope_iii = nx.DiGraph()\n\nchronotope_graph_iii(root, chronotope_iii)\n\nwith open('files/graphs/' + chronotope_III_output_file_name, 'a') as output_file:\n    for line in nx.readwrite.gexf.generate_gexf(chronotope_iii):\n        output_file.write(line)",
      "execution_count": 37,
      "outputs": []
    },
    {
      "metadata": {
        "trusted": true
      },
      "cell_type": "code",
      "source": "",
      "execution_count": null,
      "outputs": []
    }
  ],
  "metadata": {
    "kernelspec": {
      "name": "python36",
      "display_name": "Python 3.6",
      "language": "python"
    },
    "language_info": {
      "mimetype": "text/x-python",
      "nbconvert_exporter": "python",
      "name": "python",
      "pygments_lexer": "ipython3",
      "version": "3.6.6",
      "file_extension": ".py",
      "codemirror_mode": {
        "version": 3,
        "name": "ipython"
      }
    }
  },
  "nbformat": 4,
  "nbformat_minor": 2
}